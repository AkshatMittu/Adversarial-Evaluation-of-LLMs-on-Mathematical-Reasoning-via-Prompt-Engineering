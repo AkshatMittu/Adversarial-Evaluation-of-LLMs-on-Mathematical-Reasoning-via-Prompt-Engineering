{
 "cells": [
  {
   "cell_type": "code",
   "execution_count": 1,
   "id": "524c75a7-8c17-47b8-86d9-3a79da4e2dec",
   "metadata": {},
   "outputs": [],
   "source": [
    "import pandas as pd\n",
    "import numpy as np"
   ]
  },
  {
   "cell_type": "code",
   "execution_count": 3,
   "id": "2904aa3b-b4b5-42c3-86a3-0d798c0ff1a5",
   "metadata": {},
   "outputs": [],
   "source": [
    "df = pd.read_csv('QA_data.csv')"
   ]
  },
  {
   "cell_type": "code",
   "execution_count": 5,
   "id": "ec0666a9-cfb1-4670-928b-af002c8afda6",
   "metadata": {},
   "outputs": [
    {
     "data": {
      "text/html": [
       "<div>\n",
       "<style scoped>\n",
       "    .dataframe tbody tr th:only-of-type {\n",
       "        vertical-align: middle;\n",
       "    }\n",
       "\n",
       "    .dataframe tbody tr th {\n",
       "        vertical-align: top;\n",
       "    }\n",
       "\n",
       "    .dataframe thead th {\n",
       "        text-align: right;\n",
       "    }\n",
       "</style>\n",
       "<table border=\"1\" class=\"dataframe\">\n",
       "  <thead>\n",
       "    <tr style=\"text-align: right;\">\n",
       "      <th></th>\n",
       "      <th>Problem</th>\n",
       "      <th>Rationale</th>\n",
       "      <th>options</th>\n",
       "      <th>correct</th>\n",
       "      <th>annotated_formula</th>\n",
       "      <th>linear_formula</th>\n",
       "      <th>category</th>\n",
       "    </tr>\n",
       "  </thead>\n",
       "  <tbody>\n",
       "    <tr>\n",
       "      <th>0</th>\n",
       "      <td>the banker ' s gain of a certain sum due 3 yea...</td>\n",
       "      <td>\"explanation : t = 3 years r = 10 % td = ( bg ...</td>\n",
       "      <td>a ) rs . 400 , b ) rs . 300 , c ) rs . 500 , d...</td>\n",
       "      <td>a</td>\n",
       "      <td>divide(multiply(const_100, divide(multiply(36,...</td>\n",
       "      <td>multiply(n2,const_100)|multiply(n0,n1)|divide(...</td>\n",
       "      <td>gain</td>\n",
       "    </tr>\n",
       "    <tr>\n",
       "      <th>1</th>\n",
       "      <td>average age of students of an adult school is ...</td>\n",
       "      <td>\"explanation : let the original no . of studen...</td>\n",
       "      <td>a ) 1200 , b ) 120 , c ) 360 , d ) 240 , e ) n...</td>\n",
       "      <td>d</td>\n",
       "      <td>multiply(divide(subtract(multiply(add(32, 4), ...</td>\n",
       "      <td>add(n2,n3)|multiply(n1,n2)|multiply(n1,#0)|sub...</td>\n",
       "      <td>general</td>\n",
       "    </tr>\n",
       "    <tr>\n",
       "      <th>2</th>\n",
       "      <td>sophia finished 2 / 3 of a book . she calculat...</td>\n",
       "      <td>let xx be the total number of pages in the boo...</td>\n",
       "      <td>a ) 229 , b ) 270 , c ) 877 , d ) 266 , e ) 281</td>\n",
       "      <td>b</td>\n",
       "      <td>divide(90, subtract(const_1, divide(2, 3)))</td>\n",
       "      <td>divide(n0,n1)|subtract(const_1,#0)|divide(n2,#1)</td>\n",
       "      <td>general</td>\n",
       "    </tr>\n",
       "    <tr>\n",
       "      <th>3</th>\n",
       "      <td>120 is what percent of 50 ?</td>\n",
       "      <td>\"50 * x = 120 - - &gt; x = 2.4 - - &gt; 2.4 expresse...</td>\n",
       "      <td>a ) 5 % , b ) 240 % , c ) 50 % , d ) 2 % , e )...</td>\n",
       "      <td>b</td>\n",
       "      <td>multiply(divide(120, 50), const_100)</td>\n",
       "      <td>divide(n0,n1)|multiply(#0,const_100)|</td>\n",
       "      <td>gain</td>\n",
       "    </tr>\n",
       "    <tr>\n",
       "      <th>4</th>\n",
       "      <td>there are 10 girls and 20 boys in a classroom ...</td>\n",
       "      <td>if girls is 10 and boys is 20 , then 10 / 20 ....</td>\n",
       "      <td>a ) 1 / 2 , b ) 1 / 3 , c ) 1 / 5 , d ) 10 / 3...</td>\n",
       "      <td>a</td>\n",
       "      <td>divide(10, 20)</td>\n",
       "      <td>divide(n0,n1)</td>\n",
       "      <td>other</td>\n",
       "    </tr>\n",
       "  </tbody>\n",
       "</table>\n",
       "</div>"
      ],
      "text/plain": [
       "                                             Problem  \\\n",
       "0  the banker ' s gain of a certain sum due 3 yea...   \n",
       "1  average age of students of an adult school is ...   \n",
       "2  sophia finished 2 / 3 of a book . she calculat...   \n",
       "3                        120 is what percent of 50 ?   \n",
       "4  there are 10 girls and 20 boys in a classroom ...   \n",
       "\n",
       "                                           Rationale  \\\n",
       "0  \"explanation : t = 3 years r = 10 % td = ( bg ...   \n",
       "1  \"explanation : let the original no . of studen...   \n",
       "2  let xx be the total number of pages in the boo...   \n",
       "3  \"50 * x = 120 - - > x = 2.4 - - > 2.4 expresse...   \n",
       "4  if girls is 10 and boys is 20 , then 10 / 20 ....   \n",
       "\n",
       "                                             options correct  \\\n",
       "0  a ) rs . 400 , b ) rs . 300 , c ) rs . 500 , d...       a   \n",
       "1  a ) 1200 , b ) 120 , c ) 360 , d ) 240 , e ) n...       d   \n",
       "2    a ) 229 , b ) 270 , c ) 877 , d ) 266 , e ) 281       b   \n",
       "3  a ) 5 % , b ) 240 % , c ) 50 % , d ) 2 % , e )...       b   \n",
       "4  a ) 1 / 2 , b ) 1 / 3 , c ) 1 / 5 , d ) 10 / 3...       a   \n",
       "\n",
       "                                   annotated_formula  \\\n",
       "0  divide(multiply(const_100, divide(multiply(36,...   \n",
       "1  multiply(divide(subtract(multiply(add(32, 4), ...   \n",
       "2        divide(90, subtract(const_1, divide(2, 3)))   \n",
       "3               multiply(divide(120, 50), const_100)   \n",
       "4                                     divide(10, 20)   \n",
       "\n",
       "                                      linear_formula category  \n",
       "0  multiply(n2,const_100)|multiply(n0,n1)|divide(...     gain  \n",
       "1  add(n2,n3)|multiply(n1,n2)|multiply(n1,#0)|sub...  general  \n",
       "2   divide(n0,n1)|subtract(const_1,#0)|divide(n2,#1)  general  \n",
       "3              divide(n0,n1)|multiply(#0,const_100)|     gain  \n",
       "4                                      divide(n0,n1)    other  "
      ]
     },
     "execution_count": 5,
     "metadata": {},
     "output_type": "execute_result"
    }
   ],
   "source": [
    "df.head()"
   ]
  },
  {
   "cell_type": "code",
   "execution_count": 7,
   "id": "0bd2f554-7041-497e-ac48-897aa12f28ba",
   "metadata": {},
   "outputs": [
    {
     "name": "stdout",
     "output_type": "stream",
     "text": [
      "<class 'pandas.core.frame.DataFrame'>\n",
      "RangeIndex: 32822 entries, 0 to 32821\n",
      "Data columns (total 7 columns):\n",
      " #   Column             Non-Null Count  Dtype \n",
      "---  ------             --------------  ----- \n",
      " 0   Problem            32822 non-null  object\n",
      " 1   Rationale          32822 non-null  object\n",
      " 2   options            32822 non-null  object\n",
      " 3   correct            32822 non-null  object\n",
      " 4   annotated_formula  32822 non-null  object\n",
      " 5   linear_formula     32822 non-null  object\n",
      " 6   category           32822 non-null  object\n",
      "dtypes: object(7)\n",
      "memory usage: 1.8+ MB\n"
     ]
    }
   ],
   "source": [
    "df.info()"
   ]
  },
  {
   "cell_type": "code",
   "execution_count": 9,
   "id": "7be2bef5-c5ad-447a-9556-ac6f3ce4680c",
   "metadata": {},
   "outputs": [],
   "source": [
    "from transformers import AutoTokenizer\n",
    "tokenizer_phi = AutoTokenizer.from_pretrained(\"microsoft/Phi-4-mini-instruct\", local_files_only=True)"
   ]
  },
  {
   "cell_type": "code",
   "execution_count": 10,
   "id": "5ef96db9-a482-4eba-8cb7-16e28e20aa30",
   "metadata": {
    "scrolled": true
   },
   "outputs": [],
   "source": [
    "from transformers import AutoTokenizer, AutoModelForCausalLM\n",
    "\n",
    "tokenizer_qwen = AutoTokenizer.from_pretrained(\"Qwen/Qwen3-4B\")"
   ]
  },
  {
   "cell_type": "code",
   "execution_count": null,
   "id": "9225cfd0-7762-4b05-9f94-c3c00ee64df2",
   "metadata": {},
   "outputs": [],
   "source": [
    "# A function to generate a random question and structure the prompts for\n",
    "    # Phi 4 mini instruct\n",
    "    # Qwen3\n",
    "# An adversarial way of the playing\n",
    "    # Need a score function based on time taken, token generated and answer, give this information in further rounds (now this is how it is, this is how it was)\n",
    "        # Keep in mind the input tokens given, context length and the tokens generated\n",
    "    # An LLM (Mistral/Llama3.2) is used to tune the prompt for each model and assign score\n",
    "        # This LLM should evaluate each model based on the rationale, formula, user defined score and what it thinks about the question answered by each"
   ]
  },
  {
   "cell_type": "code",
   "execution_count": 13,
   "id": "a6af695c-9e95-44b6-802f-ec7bfe43ef79",
   "metadata": {},
   "outputs": [],
   "source": [
    "import ollama"
   ]
  },
  {
   "cell_type": "code",
   "execution_count": 59,
   "id": "19b4d9da-c0c9-4532-81b8-62dd56ba689d",
   "metadata": {},
   "outputs": [],
   "source": [
    "template_qwen = \"\"\"<|im_start|>system\n",
    "You are Player 1 in an adversarial game of answering reasoning questions.\n",
    "\n",
    "Things you should remember:\n",
    "1) You should select the correct answers ONLY from the options provided to you.\n",
    "2) Your aim is to ONLY WIN the game at any cost by maximizing the score, you are competing against another player in each round.\n",
    "3) As a helper and to give you scope to OPTIMIZE your generation, after each round you'll be told if you won that round and any future suggestions.\n",
    "4) The scores are assigned based on correctness of the answer, time taken to answer (less is better), explanation you provide (if given, better explanation gets more points), number of tokens generated take to answer the question (less is better, to be short and precise) and speed of your token generation (faster gets more points).\n",
    "5) You can additionally explain your answer if you are not confident which can be used in evaluation. BEWARE that if your explanation is wrong you can LOSE points.\n",
    "6) Your answer should be in a Python Dictionary format. There should be NOTHING ELSE as output other than the content in this format.\n",
    "    Format: {Explanation: text, Correct: option selected}\n",
    "    Example: {Explanation: I used 'x' to subtract from 'y' to reach 'z', Correct: 'z'}\n",
    "7) Your answer format mismatch can also cost you to LOSE some points.\n",
    "8) In the prompting format Q: denotes beginning of the question, Options: Provide you with the options and A: is the beginning of the answer.\n",
    "\n",
    "This is how scores are calculated and weighted:\n",
    "Score = (0.05 * (1 / log(number_of_tokens + 2))) + (0.1 * context_length_score) + (0.15 * (explain_score / 100)) + (0.15 * (1 / log(generation_time + 2))) + (0.4 * correct_answer) + (0.15 * log(token_speed + 1))\n",
    "\n",
    "You should aim to IMPROVE each component of the score keeping their weights in mind.\n",
    "<|im_end|>\n",
    "\"\"\"\n",
    "\n",
    "template_phi = \"\"\"<|system|>\n",
    "You are Player 2 in an adversarial game of answering reasoning questions.\n",
    "\n",
    "Things you should remember:\n",
    "1) You should select the correct answers ONLY from the options provided to you.\n",
    "2) Your aim is to ONLY WIN the game at any cost by maximizing the score, you are competing against another player in each round.\n",
    "3) As a helper and to give you scope to OPTIMIZE your generation, after each round you'll be told if you won that round and any future suggestions based on your score.\n",
    "4) The scores are assigned based on correctness of the answer, time taken to answer (less is better), explanation you provide (if given, better explanation gets more points), number of tokens generated take to answer the question (less is better, to be short and precise) and speed of your token generation (faster gets more points).\n",
    "5) You can additionally explain your answer if you are not confident which can be used in evaluation. BEWARE that if your explanation is wrong you can LOSE points.\n",
    "6) Your answer should be in a Python Dictionary format. There should be NOTHING ELSE as output other than the content in this format.\n",
    "    Format: {Explanation: text, Correct: option selected}\n",
    "    Example: {Explanation: I used 'x' to subtract from 'y' to reach 'z', Correct: 'z'}\n",
    "7) Your answer format mismatch can also cost you to LOSE some points.\n",
    "8) In the prompting format Q: denotes beginning of the question, Options: Provide you with the options and A: is the beginning of the answer.\n",
    "\n",
    "This is how scores are calculated and weighted:\n",
    "Score = (0.05 * (1 / log(number_of_tokens + 2))) + (0.1 * context_length_score) + (0.15 * (explain_score / 100)) + (0.15 * (1 / log(generation_time + 2))) + (0.4 * correct_answer) + (0.15 * log(token_speed + 1))\n",
    "\n",
    "You should aim to IMPROVE each component of the score keeping their weights in mind.\n",
    "<|end|>\n",
    "\"\"\"\n",
    "\n",
    "sol_template = \"\"\"<s>[INST] You are a helpful assistant who evaluates two player competing in an adversarial game about answering the given question from the options\n",
    "\n",
    "This is how scores are calculated and weighted:\n",
    "Score = (0.05 * (1 / log(number_of_tokens + 2))) + (0.1 * context_length_score) + (0.15 * (explain_score / 100)) + (0.15 * (1 / log(generation_time + 2))) + (0.4 * correct_answer) + (0.15 * log(token_speed + 1))\n",
    "\n",
    "You are job is to:\n",
    "1) Look at their explanations/answers and assign a score.\n",
    "2) If explanation provided, give a score out of hundred on how well they explain their output, provided their outputs are correct else assign 0\n",
    "3) DO NOT be baised towards any player. Be VERY HONEST when assigning the explanation score.\n",
    "4) You will be provided with enough information when you are evaluating their answers per round\n",
    "5) You can additionally and optinally want to improve a players score by giving a better prompting method from: [Few shot, ReAct, Chain-of-Thought, Program-Aided Prompts]\n",
    "6) You SHOULD NOT ask it use a prompting method, instead YOU should prompt it like a prompt engineer. If suggested prompting method requires examples, you should be able to provide good examples that are relevant to the question. You can also suggest ways to improve score in the suggestions item IN output dictionary\n",
    "7) Give your output as the FORMAT MENTIONED ONLY AND NOTHING ELSE. Your output will be sent to Python's eval() function, so the output should be in the RIGHT FORMAT.\n",
    "    Format: {\n",
    "        'Player 1': {'Score' :(integer), 'Option Selected': answer's option (string), 'Suggestions': text (string)}, \n",
    "        'Player 2': {'Score' :(integer), 'Option Selected': answer's option (string), 'Suggestions': text (string)}\n",
    "            }\n",
    "    Example: \n",
    "        {\n",
    "        'Player 1': {'Score' : 53, 'Option Selected': 'a', 'Suggestions': \"Let's think step-by-step in this round and try to improve your generation speed\"}, \n",
    "        'Player 2': {'Score' : 89, 'Option Selected': 'e', 'Suggestions': None}\n",
    "        }\n",
    "</INST></s>\n",
    "    \"\"\""
   ]
  },
  {
   "cell_type": "code",
   "execution_count": 157,
   "id": "f376546b-bf74-4df9-b3f6-60afa62a3d0e",
   "metadata": {},
   "outputs": [],
   "source": [
    "def question_template(df, n=5):\n",
    "    \n",
    "    game_df = df.sample(n)\n",
    "    curr = df.iloc[index]\n",
    "    prob = curr['Problem']\n",
    "    sol = curr['Rationale']\n",
    "    options = curr['options']\n",
    "    correct = curr['correct']\n",
    "    formula = curr['annotated_formula']\n",
    "    cat = curr['category']\n",
    "\n",
    "    prev_eval = \"First Round, No information\"\n",
    "    prev_score = 0\n",
    "    eval_suggestion = None\n",
    "    prev_token, prev_answer, explanation_score, prev_context, prev_winner, prev_speed, prev_time, \n",
    "    \n",
    "\n",
    "    question_qwen = f\"\"\"<|im_start|>user\n",
    "Answer the following question from the options provided.\n",
    "\n",
    "Q: {prob}\n",
    "Options: {options}\n",
    "\n",
    "A:\n",
    "<|im_end|>\n",
    "<|im_start|>assistant\n",
    "    \"\"\"\n",
    "    \n",
    "    question_phi = f\"\"\"<|user|>\n",
    "Answer the following question from the options provided.\n",
    "\n",
    "Q: {prob}\n",
    "Options: {options}\n",
    "\n",
    "A:\n",
    "<|end|>\n",
    "<|assistant|>\n",
    "    \"\"\"\n",
    "\n",
    "    \n",
    "\n",
    "    return template_qwen, template_phi, question_qwen, question_phi, sol_template, index"
   ]
  },
  {
   "cell_type": "code",
   "execution_count": 99,
   "id": "15ad51ea-7242-4f04-984f-38937c1d7cdd",
   "metadata": {},
   "outputs": [],
   "source": [
    "template_qwen, template_phi, question_qwen, question_phi, sol_template, index = question_template(df)"
   ]
  },
  {
   "cell_type": "code",
   "execution_count": 199,
   "id": "7e205ac0-4ec9-4cc8-abc3-837447e94391",
   "metadata": {},
   "outputs": [
    {
     "data": {
      "text/plain": [
       "16827"
      ]
     },
     "execution_count": 199,
     "metadata": {},
     "output_type": "execute_result"
    }
   ],
   "source": [
    "index"
   ]
  },
  {
   "cell_type": "code",
   "execution_count": 69,
   "id": "bade9656-2b69-4b8c-b5ca-75facbb5ca78",
   "metadata": {},
   "outputs": [
    {
     "name": "stdout",
     "output_type": "stream",
     "text": [
      "<|im_start|>system\n",
      "You are Player 1 in an adversarial game of answering reasoning questions.\n",
      "\n",
      "Things you should remember:\n",
      "1) You should select the correct answers ONLY from the options provided to you.\n",
      "2) Your aim is to ONLY WIN the game at any cost by maximizing the score, you are competing against another player in each round.\n",
      "3) As a helper and to give you scope to improve, after each round you'll be told if you won that round and any future suggestions.\n",
      "4) The scores are assigned based on correctness of the answer (more is better), time taken to answer (less is better), explanation you provide (if given) and number of tokens to you take to answer the question (less is better).\n",
      "5) You can additionally explain your answer if you are not confident which can be used in evaluation. BEWARE that if your explanation is wrong you can LOSE points.\n",
      "6) Your answer should be in a the format given here. \n",
      "    Format: (Explanation: text) # (Answer: option selected)\n",
      "    Example: (Explanation: I used 'x' to subtract from 'y' to reach 'z') # (Answer: 'z')\n",
      "7) Your answer format mismatch can also cost you to LOSE some points.\n",
      "8) In the prompting format Q: denotes beginning of the question, Options: Provide you with the options and A: is the beginning of the answer.\n",
      "<|im_end|>\n",
      "\n"
     ]
    }
   ],
   "source": [
    "print(template_qwen)"
   ]
  },
  {
   "cell_type": "code",
   "execution_count": 71,
   "id": "105f9d46-52bb-4f21-b5e7-9fc5d842a2b0",
   "metadata": {},
   "outputs": [
    {
     "name": "stdout",
     "output_type": "stream",
     "text": [
      "<|system|>\n",
      "You are Player 2 in an adversarial game of answering reasoning questions.\n",
      "\n",
      "Things you should remember:\n",
      "1) You should select the correct answers ONLY from the options provided to you.\n",
      "2) Your aim is to ONLY WIN the game at any cost by maximizing the score, you are competing against another player in each round.\n",
      "3) As a helper and to give you scope to improve, after each round you'll be told if you won that round and any future suggestions.\n",
      "4) The scores are assigned based on correctness of the answer (more is better), time taken to answer (less is better), explanation you provide (if given) and number of tokens to you take to answer the question (less is better).\n",
      "5) You can additionally explain your answer if you are not confident which can be used in evaluation. BEWARE that if your explanation is wrong you can LOSE points.\n",
      "6) Your answer should be in a the format given here. \n",
      "    Format: (Explanation: text) # (Answer: option selected)\n",
      "    Example: (Explanation: I used 'x' to subtract from 'y' to reach 'z') # (Answer: 'z')\n",
      "7) Your answer format mismatch can also cost you to LOSE some points.\n",
      "8) In the prompting format Q: denotes beginning of the question, Options: Provide you with the options and A: is the beginning of the answer.\n",
      "<|end|>\n",
      "\n"
     ]
    }
   ],
   "source": [
    "print(template_phi)"
   ]
  },
  {
   "cell_type": "code",
   "execution_count": 73,
   "id": "bea38e9c-0ea1-4790-99d9-cde2868c23c2",
   "metadata": {},
   "outputs": [
    {
     "name": "stdout",
     "output_type": "stream",
     "text": [
      "<|im_start|>user\n",
      "Answer the following question from the options provided.\n",
      "\n",
      "Q: a train 500 m long can cross an electric pole in 10 sec and then find the speed of the train ?\n",
      "Options: a ) 140 , b ) 150 , c ) 160 , d ) 170 , e ) 180\n",
      "\n",
      "A:\n",
      "<|im_end|>\n",
      "<|im_start|>assistant\n",
      "    \n"
     ]
    }
   ],
   "source": [
    "print(question_qwen)"
   ]
  },
  {
   "cell_type": "code",
   "execution_count": 75,
   "id": "aebd54b4-f0a4-4d42-8d26-2c21ee3e4943",
   "metadata": {},
   "outputs": [
    {
     "name": "stdout",
     "output_type": "stream",
     "text": [
      "<|user|>\n",
      "Answer the following question from the options provided.\n",
      "\n",
      "Q: a train 500 m long can cross an electric pole in 10 sec and then find the speed of the train ?\n",
      "Options: a ) 140 , b ) 150 , c ) 160 , d ) 170 , e ) 180\n",
      "\n",
      "A:\n",
      "<|end|>\n",
      "<|assistant|>\n",
      "    \n"
     ]
    }
   ],
   "source": [
    "print(question_phi)"
   ]
  },
  {
   "cell_type": "code",
   "execution_count": 101,
   "id": "d2697f8b-b1bc-4799-b9e6-02fa1bec918b",
   "metadata": {},
   "outputs": [
    {
     "name": "stdout",
     "output_type": "stream",
     "text": [
      "<s>[INST] You are a helpful assistant who evaluates two player competing in an adversarial game about answering the given question from the options\n",
      "\n",
      "You are job is to:\n",
      "1) Look at their explanations/answers and assign a score.\n",
      "2) If explanation provided, give a score out of hundred on how well they explain their output, provided their outputs are correct else assign 0\n",
      "3) DO NOT be baised towards any player. Be VERY HONEST when assigning the score.\n",
      "4) You will be provided with enough information when you are evaluating their answers per round\n",
      "5) You can additionally and optinally want to improve a players score by giving a better prompting method from: [Few shot, ReAct, Chain-of-Thought, Program-Aided Prompts]\n",
      "6) You SHOULD NOT ask it use a prompting method, instead YOU should prompt it like a prompt engineer. If suggested prompting method requires examples, you should be able to provide good examples that are relevant to the question.\n",
      "7) Give you output only in the following format. \n",
      "    Format: (Player 1: Score, Suggestions: text)#(Player 2: Score, Suggestions: text)\n",
      "    Example: (Player 1: 53, Suggestions: Let's think step-by-step in this round)#(Player 2: 89, Suggestions: None)\n",
      "</INST></s>\n",
      "    \n"
     ]
    }
   ],
   "source": [
    "print(sol_template)"
   ]
  },
  {
   "cell_type": "code",
   "execution_count": 103,
   "id": "73accc71-2497-4b0b-9621-39d7f85dc4a6",
   "metadata": {},
   "outputs": [
    {
     "data": {
      "text/html": [
       "<div>\n",
       "<style scoped>\n",
       "    .dataframe tbody tr th:only-of-type {\n",
       "        vertical-align: middle;\n",
       "    }\n",
       "\n",
       "    .dataframe tbody tr th {\n",
       "        vertical-align: top;\n",
       "    }\n",
       "\n",
       "    .dataframe thead th {\n",
       "        text-align: right;\n",
       "    }\n",
       "</style>\n",
       "<table border=\"1\" class=\"dataframe\">\n",
       "  <thead>\n",
       "    <tr style=\"text-align: right;\">\n",
       "      <th></th>\n",
       "      <th>Problem</th>\n",
       "      <th>Rationale</th>\n",
       "      <th>options</th>\n",
       "      <th>correct</th>\n",
       "      <th>annotated_formula</th>\n",
       "      <th>linear_formula</th>\n",
       "      <th>category</th>\n",
       "    </tr>\n",
       "  </thead>\n",
       "  <tbody>\n",
       "    <tr>\n",
       "      <th>28851</th>\n",
       "      <td>pipe a fills a swimming pool in 4 hours . pipe...</td>\n",
       "      <td>\"pipe a fills the pool in 4 hrs . 1 hour ' s w...</td>\n",
       "      <td>a ) 16 : 00 , b ) 18 : 00 , c ) 19 : 00 , d ) ...</td>\n",
       "      <td>e</td>\n",
       "      <td>multiply(divide(const_3, 4), divide(const_1, s...</td>\n",
       "      <td>divide(const_3,n0)|divide(const_1,n0)|divide(c...</td>\n",
       "      <td>physics</td>\n",
       "    </tr>\n",
       "    <tr>\n",
       "      <th>27321</th>\n",
       "      <td>find two integers , neither of which ends in a...</td>\n",
       "      <td>\"10 , 000,000 = 10 ^ 7 = 10 x 10 x 10 x 10 x 1...</td>\n",
       "      <td>a ) 64 and 15,625 , b ) 60 and 15,625 , c ) 64...</td>\n",
       "      <td>e</td>\n",
       "      <td>divide(multiply(multiply(const_100, const_100)...</td>\n",
       "      <td>multiply(const_100,const_100)|multiply(const_1...</td>\n",
       "      <td>general</td>\n",
       "    </tr>\n",
       "    <tr>\n",
       "      <th>1328</th>\n",
       "      <td>x , y , and z are different prime numbers . th...</td>\n",
       "      <td>\"the exponents of x ^ 2 * y ^ 2 * z are 2 , 2 ...</td>\n",
       "      <td>a ) 6 , b ) 8 , c ) 12 , d ) 18 , e ) 24</td>\n",
       "      <td>d</td>\n",
       "      <td>subtract(power(2, const_4), const_4)</td>\n",
       "      <td>power(n0,const_4)|subtract(#0,const_4)|</td>\n",
       "      <td>general</td>\n",
       "    </tr>\n",
       "    <tr>\n",
       "      <th>7591</th>\n",
       "      <td>in the rectangular coordinate system , what is...</td>\n",
       "      <td>first , solve for the slope , m : m = ( y 2 - ...</td>\n",
       "      <td>a ) 4 , b ) 2 , c ) 0 , d ) − 2 , e ) − 4</td>\n",
       "      <td>a</td>\n",
       "      <td>divide(subtract(multiply(divide(subtract(negat...</td>\n",
       "      <td>negate(n3)|negate(n2)|subtract(#0,n1)|subtract...</td>\n",
       "      <td>general</td>\n",
       "    </tr>\n",
       "    <tr>\n",
       "      <th>12953</th>\n",
       "      <td>x and y are positive integers . when x is divi...</td>\n",
       "      <td>\"when x is divided by 12 , the remainder is 5 ...</td>\n",
       "      <td>a ) 24 , b ) 12 , c ) 64 , d ) 48 , e ) 25</td>\n",
       "      <td>d</td>\n",
       "      <td>subtract(add(multiply(14, const_2), 5), add(5,...</td>\n",
       "      <td>add(n0,n1)|multiply(n4,const_2)|add(n5,#1)|sub...</td>\n",
       "      <td>general</td>\n",
       "    </tr>\n",
       "    <tr>\n",
       "      <th>17548</th>\n",
       "      <td>a certain bacteria colony doubles in size ever...</td>\n",
       "      <td>\"if there is one bacteria colony , then it wil...</td>\n",
       "      <td>a ) 6.33 , b ) 7.5 , c ) 20 , d ) 15 , e ) 19</td>\n",
       "      <td>c</td>\n",
       "      <td>subtract(21, divide(21, 21))</td>\n",
       "      <td>divide(n0,n0)|subtract(n0,#0)|</td>\n",
       "      <td>physics</td>\n",
       "    </tr>\n",
       "    <tr>\n",
       "      <th>12504</th>\n",
       "      <td>a type q machine can complete a job in 5 hours...</td>\n",
       "      <td>now d should be the answer . q need 5 hours to...</td>\n",
       "      <td>a ) 1 / 5 , b ) 29 / 35 , c ) 5 / 6 , d ) 35 /...</td>\n",
       "      <td>d</td>\n",
       "      <td>multiply(3, multiply(const_2, divide(const_1, ...</td>\n",
       "      <td>divide(const_1,n0)|multiply(#0,const_2)|multip...</td>\n",
       "      <td>physics</td>\n",
       "    </tr>\n",
       "    <tr>\n",
       "      <th>28493</th>\n",
       "      <td>a store reported total sales of $ 385 million ...</td>\n",
       "      <td>last year ' s sales = $ 320 million ; this yea...</td>\n",
       "      <td>a ) 2 % , b ) 17 % , c ) 20 % , d ) 65 % , e )...</td>\n",
       "      <td>c</td>\n",
       "      <td>multiply(divide(subtract(385, 320), 320), cons...</td>\n",
       "      <td>subtract(n0,n1)|divide(#0,n1)|multiply(#1,cons...</td>\n",
       "      <td>general</td>\n",
       "    </tr>\n",
       "    <tr>\n",
       "      <th>13915</th>\n",
       "      <td>if 9 / ( 5 + 3 / x ) = 1 , then x =</td>\n",
       "      <td>the expression 9 / ( 5 + 3 / x ) = 1 should ha...</td>\n",
       "      <td>a ) 3 , b ) 1 , c ) 3 / 4 , d ) - 1 / 3 , e ) - 3</td>\n",
       "      <td>c</td>\n",
       "      <td>divide(3, subtract(9, 5))</td>\n",
       "      <td>subtract(n0,n1)|divide(n2,#0)</td>\n",
       "      <td>general</td>\n",
       "    </tr>\n",
       "    <tr>\n",
       "      <th>6035</th>\n",
       "      <td>r and s together can plough a field in 10 hour...</td>\n",
       "      <td>f r and s together can do a piece of work in x...</td>\n",
       "      <td>a ) 24 hours , b ) 5 hours , c ) 10 hours , d ...</td>\n",
       "      <td>e</td>\n",
       "      <td>add(15, subtract(15, 10))</td>\n",
       "      <td>subtract(n1,n0)|add(n1,#0)</td>\n",
       "      <td>physics</td>\n",
       "    </tr>\n",
       "  </tbody>\n",
       "</table>\n",
       "</div>"
      ],
      "text/plain": [
       "                                                 Problem  \\\n",
       "28851  pipe a fills a swimming pool in 4 hours . pipe...   \n",
       "27321  find two integers , neither of which ends in a...   \n",
       "1328   x , y , and z are different prime numbers . th...   \n",
       "7591   in the rectangular coordinate system , what is...   \n",
       "12953  x and y are positive integers . when x is divi...   \n",
       "17548  a certain bacteria colony doubles in size ever...   \n",
       "12504  a type q machine can complete a job in 5 hours...   \n",
       "28493  a store reported total sales of $ 385 million ...   \n",
       "13915                if 9 / ( 5 + 3 / x ) = 1 , then x =   \n",
       "6035   r and s together can plough a field in 10 hour...   \n",
       "\n",
       "                                               Rationale  \\\n",
       "28851  \"pipe a fills the pool in 4 hrs . 1 hour ' s w...   \n",
       "27321  \"10 , 000,000 = 10 ^ 7 = 10 x 10 x 10 x 10 x 1...   \n",
       "1328   \"the exponents of x ^ 2 * y ^ 2 * z are 2 , 2 ...   \n",
       "7591   first , solve for the slope , m : m = ( y 2 - ...   \n",
       "12953  \"when x is divided by 12 , the remainder is 5 ...   \n",
       "17548  \"if there is one bacteria colony , then it wil...   \n",
       "12504  now d should be the answer . q need 5 hours to...   \n",
       "28493  last year ' s sales = $ 320 million ; this yea...   \n",
       "13915  the expression 9 / ( 5 + 3 / x ) = 1 should ha...   \n",
       "6035   f r and s together can do a piece of work in x...   \n",
       "\n",
       "                                                 options correct  \\\n",
       "28851  a ) 16 : 00 , b ) 18 : 00 , c ) 19 : 00 , d ) ...       e   \n",
       "27321  a ) 64 and 15,625 , b ) 60 and 15,625 , c ) 64...       e   \n",
       "1328            a ) 6 , b ) 8 , c ) 12 , d ) 18 , e ) 24       d   \n",
       "7591           a ) 4 , b ) 2 , c ) 0 , d ) − 2 , e ) − 4       a   \n",
       "12953         a ) 24 , b ) 12 , c ) 64 , d ) 48 , e ) 25       d   \n",
       "17548      a ) 6.33 , b ) 7.5 , c ) 20 , d ) 15 , e ) 19       c   \n",
       "12504  a ) 1 / 5 , b ) 29 / 35 , c ) 5 / 6 , d ) 35 /...       d   \n",
       "28493  a ) 2 % , b ) 17 % , c ) 20 % , d ) 65 % , e )...       c   \n",
       "13915  a ) 3 , b ) 1 , c ) 3 / 4 , d ) - 1 / 3 , e ) - 3       c   \n",
       "6035   a ) 24 hours , b ) 5 hours , c ) 10 hours , d ...       e   \n",
       "\n",
       "                                       annotated_formula  \\\n",
       "28851  multiply(divide(const_3, 4), divide(const_1, s...   \n",
       "27321  divide(multiply(multiply(const_100, const_100)...   \n",
       "1328                subtract(power(2, const_4), const_4)   \n",
       "7591   divide(subtract(multiply(divide(subtract(negat...   \n",
       "12953  subtract(add(multiply(14, const_2), 5), add(5,...   \n",
       "17548                       subtract(21, divide(21, 21))   \n",
       "12504  multiply(3, multiply(const_2, divide(const_1, ...   \n",
       "28493  multiply(divide(subtract(385, 320), 320), cons...   \n",
       "13915                          divide(3, subtract(9, 5))   \n",
       "6035                           add(15, subtract(15, 10))   \n",
       "\n",
       "                                          linear_formula category  \n",
       "28851  divide(const_3,n0)|divide(const_1,n0)|divide(c...  physics  \n",
       "27321  multiply(const_100,const_100)|multiply(const_1...  general  \n",
       "1328             power(n0,const_4)|subtract(#0,const_4)|  general  \n",
       "7591   negate(n3)|negate(n2)|subtract(#0,n1)|subtract...  general  \n",
       "12953  add(n0,n1)|multiply(n4,const_2)|add(n5,#1)|sub...  general  \n",
       "17548                     divide(n0,n0)|subtract(n0,#0)|  physics  \n",
       "12504  divide(const_1,n0)|multiply(#0,const_2)|multip...  physics  \n",
       "28493  subtract(n0,n1)|divide(#0,n1)|multiply(#1,cons...  general  \n",
       "13915                      subtract(n0,n1)|divide(n2,#0)  general  \n",
       "6035                          subtract(n1,n0)|add(n1,#0)  physics  "
      ]
     },
     "execution_count": 103,
     "metadata": {},
     "output_type": "execute_result"
    }
   ],
   "source": [
    "df.sample(10)"
   ]
  },
  {
   "cell_type": "code",
   "execution_count": 107,
   "id": "308f9129-871a-47de-9cf9-652e034de0fc",
   "metadata": {},
   "outputs": [
    {
     "data": {
      "text/plain": [
       "'<|im_start|>user\\nAnswer the following question from the options provided.\\n\\nQ: two trains of equal lengths take 10 sec and 20 sec respectively to cross a telegraph post . if the length of each train be 120 m , in what time will they cross other travelling in opposite direction ?\\nOptions: a ) 16 sec , b ) 13 sec , c ) 17 sec , d ) 21 sec , e ) 23 sec\\n\\nA:\\n<|im_end|>\\n<|im_start|>assistant\\n    '"
      ]
     },
     "execution_count": 107,
     "metadata": {},
     "output_type": "execute_result"
    }
   ],
   "source": [
    "question_qwen"
   ]
  },
  {
   "cell_type": "code",
   "execution_count": 133,
   "id": "dc5df2ae-3a04-4dce-b467-cfa9bd01a24f",
   "metadata": {},
   "outputs": [
    {
     "data": {
      "text/plain": [
       "ListResponse(models=[Model(model='qwen3:4b', modified_at=datetime.datetime(2025, 7, 8, 18, 36, 42, 74471, tzinfo=TzInfo(-05:00)), digest='2bfd38a7daaf4b1037efe517ccb73d1a3bbd4822cf89f1a82be1569050a114e0', size=2620788260, details=ModelDetails(parent_model='', format='gguf', family='qwen3', families=['qwen3'], parameter_size='4.0B', quantization_level='Q4_K_M')), Model(model='phi4-mini:3.8b', modified_at=datetime.datetime(2025, 7, 8, 13, 24, 14, 659880, tzinfo=TzInfo(-05:00)), digest='78fad5d182a7c33065e153a5f8ba210754207ba9d91973f57dffa7f487363753', size=2491876774, details=ModelDetails(parent_model='', format='gguf', family='phi3', families=['phi3'], parameter_size='3.8B', quantization_level='Q4_K_M')), Model(model='mistral:latest', modified_at=datetime.datetime(2025, 2, 24, 17, 20, 52, 321648, tzinfo=TzInfo(-06:00)), digest='f974a74358d62a017b37c6f424fcdf2744ca02926c4f952513ddf474b2fa5091', size=4113301824, details=ModelDetails(parent_model='', format='gguf', family='llama', families=['llama'], parameter_size='7.2B', quantization_level='Q4_0')), Model(model='llama3.2:latest', modified_at=datetime.datetime(2025, 2, 20, 20, 57, 44, 113685, tzinfo=TzInfo(-06:00)), digest='a80c4f17acd55265feec403c7aef86be0c25983ab279d83f3bcd3abbcb5b8b72', size=2019393189, details=ModelDetails(parent_model='', format='gguf', family='llama', families=['llama'], parameter_size='3.2B', quantization_level='Q4_K_M'))])"
      ]
     },
     "execution_count": 133,
     "metadata": {},
     "output_type": "execute_result"
    }
   ],
   "source": [
    "ollama.list()"
   ]
  },
  {
   "cell_type": "code",
   "execution_count": 193,
   "id": "29b47530-c740-4c1a-b377-cac0647fa805",
   "metadata": {},
   "outputs": [],
   "source": [
    "response_phi= ollama.chat(model='phi4-mini:3.8b', messages=[\n",
    "            {'role': 'system', 'content': template_phi},\n",
    "            {'role': 'user', 'content': question_phi}\n",
    "        ],\n",
    "        options={\n",
    "            'temperature': 0.1,\n",
    "            'top_p': 0.1\n",
    "        })"
   ]
  },
  {
   "cell_type": "code",
   "execution_count": 194,
   "id": "43ce012f-dab2-4dec-8621-8278d140ebac",
   "metadata": {},
   "outputs": [
    {
     "name": "stdout",
     "output_type": "stream",
     "text": [
      "(Explanation: The speed of the first train is distance/time = 120m/10s=12 m/s. Similarly, for second one it will be 120m/20s=6 m/s. When moving in opposite direction their relative velocity becomes sum of both speeds which equals to (12+6)=18 m/s. The total length they need to cross is twice the individual lengths as they're crossing each other completely =2*120m=240m. Time taken will be distance/relative speed, i.e., 240m / 18 m/s =13 seconds) #(Correct: b)\n"
     ]
    }
   ],
   "source": [
    "print(response_phi.message.content)"
   ]
  },
  {
   "cell_type": "code",
   "execution_count": 197,
   "id": "eec1e22f-d728-4672-8cdc-fea8c16cf50f",
   "metadata": {},
   "outputs": [],
   "source": [
    "response_qwen= ollama.chat(model='qwen3:4b', messages=[\n",
    "            {'role': 'system', 'content': template_qwen},\n",
    "            {'role': 'user', 'content': question_qwen}\n",
    "        ],\n",
    "        options={\n",
    "            'temperature': 0.1,\n",
    "            'top_p': 0.1\n",
    "        })"
   ]
  },
  {
   "cell_type": "code",
   "execution_count": 198,
   "id": "ce4c7ae7-f026-49cb-89fd-ccf2c9f2162c",
   "metadata": {},
   "outputs": [
    {
     "name": "stdout",
     "output_type": "stream",
     "text": [
      "<think>\n",
      "Okay, let's tackle this problem. So, there are two trains of equal length, each 120 meters. The first train takes 10 seconds to cross a telegraph post, and the second takes 20 seconds. The question is, how long will it take for them to cross each other when moving in opposite directions?\n",
      "\n",
      "First, I need to recall the formula for time taken by a train to cross a telegraph post. Since the telegraph post is stationary, the time taken is the time it takes for the entire length of the train to pass by. So, the speed of each train can be calculated using the formula: speed = distance / time.\n",
      "\n",
      "For the first train, the distance is 120 meters, and the time is 10 seconds. So, speed1 = 120 / 10 = 12 m/s.\n",
      "\n",
      "For the second train, the distance is also 120 meters, but the time is 20 seconds. So, speed2 = 120 / 20 = 6 m/s.\n",
      "\n",
      "Now, when two trains are moving in opposite directions, their relative speed is the sum of their individual speeds. So, relative speed = speed1 + speed2 = 12 + 6 = 18 m/s.\n",
      "\n",
      "To find the time taken to cross each other, we need to consider the combined length of both trains. Since each is 120 meters, the total distance to cover is 120 + 120 = 240 meters.\n",
      "\n",
      "Time = distance / relative speed = 240 / 18. Let me calculate that. 240 divided by 18 is 13.333... seconds. Hmm, that's approximately 13.33 seconds. Looking at the options, option b is 13 seconds. But wait, maybe I should check if there's a rounding or if the exact value is required.\n",
      "\n",
      "Wait, 240 divided by 18 simplifies to 40/3, which is approximately 13.333... So, the exact answer is 13.33 seconds. However, the options given are whole numbers. The closest option is b) 13 sec. But maybe there's a mistake here. Let me double-check the calculations.\n",
      "\n",
      "First train speed: 120/10 = 12 m/s. Second train: 120/20 = 6 m/s. Relative speed when moving towards each other: 12 + 6 = 18 m/s. Total distance: 120 + 120 = 240 m. Time = 240 / 18 = 13.333... seconds. So, the answer should be approximately 13.33 seconds. But the options don't have that. The options are a) 16, b)13, c)17, d)21, e)23. So, the closest is b)13. But maybe the question expects an exact answer, and perhaps I made a mistake in the calculation.\n",
      "\n",
      "Alternatively, maybe the problem is in the way the time is calculated. Let me check again. The formula for time when two objects move towards each other is indeed (sum of lengths) divided by (sum of speeds). So, 240 / 18 = 13.333... So, the answer should be 13.33 seconds. But since the options are in whole numbers, maybe the answer is 13 seconds. However, the options might have a different approach. Wait, maybe the problem is in the calculation of the speeds. Let me check again.\n",
      "\n",
      "First train: 120 meters in 10 seconds. 120/10 is 12 m/s. Second train: 120/20 is 6 m/s. Correct. So, relative speed is 18 m/s. Total distance is 240 meters. Time is 240/18 = 13.333... So, the answer is approximately 13.33 seconds. But the options don't have that. The closest is 13 seconds (option b). However, maybe the answer is supposed to be 13.33, but since the options are given as integers, perhaps the correct answer is 13 seconds. But wait, maybe the problem expects the answer to be in fractions, but the options are in whole numbers. Alternatively, maybe I made a mistake in the formula.\n",
      "\n",
      "Alternatively, maybe the problem is that when two trains are moving in opposite directions, the time taken to cross each other is (sum of lengths) divided by (sum of speeds). So, that's correct. So, 240 / 18 = 13.333... So, the answer is 13.33 seconds. But the options don't have that. The options are a)16, b)13, c)17, d)21, e)23. So, the closest is 13 seconds. But maybe the answer is 13.33, but since the options don't have that, perhaps the answer is 13 seconds. However, maybe the problem expects the answer to be 13.33, but since the options are given as integers, maybe the answer is 13.33, but the options don't have that. Wait, maybe I made a mistake in the calculation. Let me check again.\n",
      "\n",
      "Alternatively, maybe the problem is that the time taken for each train to cross the post is given, but maybe the speeds are calculated incorrectly. Let me check again. First train: 120 meters in 10 seconds. So, 12 m/s. Second train: 120 meters in 20 seconds. 6 m/s. Correct. So, relative speed is 18 m/s. Total distance is 240 meters. Time is 240 / 18 = 13.333... So, the answer is 13.33 seconds. But the options don't have that. The options are a)16, b)13, c)17, d)21, e)23. So, the closest is 13 seconds. But maybe the answer is 13.33, but since the options are given as integers, perhaps the answer is 13 seconds. However, maybe the problem expects the answer to be 13.33, but the options are wrong. Alternatively, maybe I made a mistake in the formula.\n",
      "\n",
      "Alternatively, maybe the problem is that when two trains are moving in opposite directions, the time taken to cross each other is (sum of lengths) divided by (sum of speeds). So, that's correct. So, 240 / 18 = 13.333... So, the answer is 13.33 seconds. But the options don't have that. So, perhaps the answer is 13 seconds (option b). But maybe the answer is 13.33, but since the options are given as integers, maybe the answer is 13.33, but the options don't have that. Wait, maybe the problem is in the calculation of the speeds. Let me check again.\n",
      "\n",
      "Alternatively, maybe the problem is that the time taken for each train to cross the post is given, but the speeds are calculated as 12 m/s and 6 m/s. So, the relative speed is 18 m/s. The total distance is 240 meters. So, time is 240 / 18 = 13.333... So, the answer is 13.33 seconds. But the options don't have that. So, perhaps the answer is 13 seconds (option b). But maybe the answer is 13.33, but the options are wrong. Alternatively, maybe the answer is 13.33, but the options are given as integers, so the answer is 13.33, but the closest is 13. So, the answer is option b) 13 seconds. Therefore, the correct answer is b) 13 seconds.\n",
      "</think>\n",
      "\n",
      "(Explanation: The speed of the first train is 120/10 = 12 m/s, and the second is 120/20 = 6 m/s. When moving in opposite directions, their relative speed is 12 + 6 = 18 m/s. The total distance to cover is 120 + 120 = 240 m. Time = 240/18 ≈ 13.33 seconds, which rounds to 13 seconds.) # (Correct: b)\n"
     ]
    }
   ],
   "source": [
    "print(response_qwen.message.content)"
   ]
  },
  {
   "cell_type": "code",
   "execution_count": 143,
   "id": "b696eb6b-86f8-4024-9db3-a69ae68c1691",
   "metadata": {},
   "outputs": [],
   "source": [
    "phi_tokens = tokenizer_phi(question_phi)"
   ]
  },
  {
   "cell_type": "code",
   "execution_count": 153,
   "id": "054e5a97-e9cf-43c8-a45d-ecc7223e9d63",
   "metadata": {},
   "outputs": [
    {
     "data": {
      "text/plain": [
       "{'input_ids': [200021, 17045, 290, 3992, 4928, 591, 290, 3880, 5181, 364, 48, 25, 1920, 46841, 328, 12629, 51957, 2304, 220, 702, 6312, 326, 220, 455, 6312, 24364, 316, 8088, 261, 5443, 7978, 1926, 887, 538, 290, 5517, 328, 2454, 8513, 413, 220, 6106, 284, 1366, 306, 1412, 1058, 738, 1023, 8088, 1273, 42305, 306, 23821, 9262, 19740, 5360, 25, 261, 1546, 220, 1125, 6312, 1366, 287, 1546, 220, 1311, 6312, 1366, 274, 1546, 220, 1422, 6312, 1366, 272, 1546, 220, 2040, 6312, 1366, 319, 1546, 220, 1860, 6312, 279, 32, 734, 200020, 200019], 'attention_mask': [1, 1, 1, 1, 1, 1, 1, 1, 1, 1, 1, 1, 1, 1, 1, 1, 1, 1, 1, 1, 1, 1, 1, 1, 1, 1, 1, 1, 1, 1, 1, 1, 1, 1, 1, 1, 1, 1, 1, 1, 1, 1, 1, 1, 1, 1, 1, 1, 1, 1, 1, 1, 1, 1, 1, 1, 1, 1, 1, 1, 1, 1, 1, 1, 1, 1, 1, 1, 1, 1, 1, 1, 1, 1, 1, 1, 1, 1, 1, 1, 1, 1, 1, 1, 1, 1, 1, 1, 1, 1, 1, 1]}"
      ]
     },
     "execution_count": 153,
     "metadata": {},
     "output_type": "execute_result"
    }
   ],
   "source": [
    "phi_tokens"
   ]
  },
  {
   "cell_type": "code",
   "execution_count": 149,
   "id": "8b9a9fcf-8ed6-4fa3-81a0-b8f7a935a526",
   "metadata": {},
   "outputs": [],
   "source": [
    "qwen_tokens = tokenizer_qwen(question_qwen)"
   ]
  },
  {
   "cell_type": "code",
   "execution_count": 151,
   "id": "e25432f1-18a6-4642-b88e-01790bb3bade",
   "metadata": {},
   "outputs": [
    {
     "data": {
      "text/plain": [
       "{'input_ids': [151644, 872, 198, 16141, 279, 2701, 3405, 504, 279, 2606, 3897, 382, 48, 25, 1378, 27688, 315, 6144, 28316, 1896, 220, 16, 15, 5701, 323, 220, 17, 15, 5701, 15576, 311, 5312, 264, 7963, 4439, 1736, 659, 421, 279, 3084, 315, 1817, 5426, 387, 220, 16, 17, 15, 296, 1154, 304, 1128, 882, 686, 807, 5312, 1008, 30729, 304, 14002, 5106, 17607, 3798, 25, 264, 873, 220, 16, 21, 5701, 1154, 293, 873, 220, 16, 18, 5701, 1154, 272, 873, 220, 16, 22, 5701, 1154, 294, 873, 220, 17, 16, 5701, 1154, 384, 873, 220, 17, 18, 5701, 271, 32, 510, 151645, 198, 151644, 77091, 198, 257], 'attention_mask': [1, 1, 1, 1, 1, 1, 1, 1, 1, 1, 1, 1, 1, 1, 1, 1, 1, 1, 1, 1, 1, 1, 1, 1, 1, 1, 1, 1, 1, 1, 1, 1, 1, 1, 1, 1, 1, 1, 1, 1, 1, 1, 1, 1, 1, 1, 1, 1, 1, 1, 1, 1, 1, 1, 1, 1, 1, 1, 1, 1, 1, 1, 1, 1, 1, 1, 1, 1, 1, 1, 1, 1, 1, 1, 1, 1, 1, 1, 1, 1, 1, 1, 1, 1, 1, 1, 1, 1, 1, 1, 1, 1, 1, 1, 1, 1, 1, 1, 1, 1, 1, 1, 1, 1, 1, 1, 1]}"
      ]
     },
     "execution_count": 151,
     "metadata": {},
     "output_type": "execute_result"
    }
   ],
   "source": [
    "qwen_tokens"
   ]
  },
  {
   "cell_type": "code",
   "execution_count": 205,
   "id": "0cb22e3f-5482-48ae-af17-3a1a1fb993b0",
   "metadata": {},
   "outputs": [
    {
     "name": "stdout",
     "output_type": "stream",
     "text": [
      " (Correct: b)\n"
     ]
    }
   ],
   "source": [
    "print(response_qwen.message.content.split('</think>')[1].strip().split('#')[1])"
   ]
  },
  {
   "cell_type": "code",
   "execution_count": 207,
   "id": "b5efcd25-a1b3-4b4d-914c-cc98b8e9975c",
   "metadata": {},
   "outputs": [],
   "source": [
    "curr = df.iloc[index]\n",
    "prob = curr['Problem']\n",
    "sol = curr['Rationale']\n",
    "options = curr['options']\n",
    "correct = curr['correct']\n",
    "formula = curr['annotated_formula']\n",
    "cat = curr['category']"
   ]
  },
  {
   "cell_type": "code",
   "execution_count": 209,
   "id": "050c6095-6ef2-403b-a405-be373cfd682f",
   "metadata": {},
   "outputs": [],
   "source": [
    "phi_output = response_phi.message.content\n",
    "qwen_output = response_qwen.message.content.split('</think>')[1].strip()"
   ]
  },
  {
   "cell_type": "code",
   "execution_count": 211,
   "id": "c7afbc2c-ab66-4a0b-9919-b380afcf9345",
   "metadata": {},
   "outputs": [],
   "source": [
    "eval_prompt = f\"\"\"[INST]\n",
    "Analyse the answers and explanations from each player and assign a score based on the question. Also, provide suggestions and follow instructions as given by the system.\n",
    "\n",
    "Q: {prob}\n",
    "A: {correct}\n",
    "\n",
    "Options: {options}\n",
    "Explanation: {sol}\n",
    "Formula: {formula}\n",
    "Question Category: {cat}\n",
    "\n",
    "Player 1 Explanation/Answer: {qwen_output}\n",
    "Player 2 Explanation/Answer: {phi_output}\n",
    "[/INST]\n",
    "\"\"\""
   ]
  },
  {
   "cell_type": "code",
   "execution_count": 215,
   "id": "842adc1d-cb88-4a49-be80-ad0fd00983cc",
   "metadata": {},
   "outputs": [
    {
     "name": "stdout",
     "output_type": "stream",
     "text": [
      "[INST]\n",
      "Analyse the answers and explanations from each player and assign a score based on the question. Also, provide suggestions and follow instructions as given by the system.\n",
      "\n",
      "Q: two trains of equal lengths take 10 sec and 20 sec respectively to cross a telegraph post . if the length of each train be 120 m , in what time will they cross other travelling in opposite direction ?\n",
      "A: b\n",
      "\n",
      "Options: a ) 16 sec , b ) 13 sec , c ) 17 sec , d ) 21 sec , e ) 23 sec\n",
      "Explanation: \"speed of the first train = 120 / 10 = 12 m / sec . speed of the second train = 120 / 20 = 6 m / sec . relative speed = 12 + 6 = 18 m / sec . required time = ( 120 + 120 ) / 18 = 13 sec . answer : b\"\n",
      "Formula: divide(multiply(120, const_2), add(speed(120, 20), speed(120, 10)))\n",
      "Question Category: physics\n",
      "\n",
      "Player 1 Explanation/Answer: (Explanation: The speed of the first train is 120/10 = 12 m/s, and the second is 120/20 = 6 m/s. When moving in opposite directions, their relative speed is 12 + 6 = 18 m/s. The total distance to cover is 120 + 120 = 240 m. Time = 240/18 ≈ 13.33 seconds, which rounds to 13 seconds.) # (Correct: b)\n",
      "Player 2 Explanation/Answer: (Explanation: The speed of the first train is distance/time = 120m/10s=12 m/s. Similarly, for second one it will be 120m/20s=6 m/s. When moving in opposite direction their relative velocity becomes sum of both speeds which equals to (12+6)=18 m/s. The total length they need to cross is twice the individual lengths as they're crossing each other completely =2*120m=240m. Time taken will be distance/relative speed, i.e., 240m / 18 m/s =13 seconds) #(Correct: b)\n",
      "[/INST]\n",
      "\n"
     ]
    }
   ],
   "source": [
    "print(eval_prompt)"
   ]
  },
  {
   "cell_type": "code",
   "execution_count": 17,
   "id": "5a4efee9-9f7e-431a-8078-5ed433ea3c68",
   "metadata": {},
   "outputs": [],
   "source": [
    "import time"
   ]
  },
  {
   "cell_type": "code",
   "execution_count": 249,
   "id": "ac1069a3-45b9-4feb-97d7-aad107410387",
   "metadata": {},
   "outputs": [
    {
     "name": "stdout",
     "output_type": "stream",
     "text": [
      "17.377511099912226\n"
     ]
    }
   ],
   "source": [
    "start_eval = time.perf_counter()\n",
    "response_eval = ollama.chat(model='mistral', messages=[\n",
    "            {'role': 'system', 'content': sol_template},\n",
    "            {'role': 'user', 'content': eval_prompt}\n",
    "        ],\n",
    "        options={\n",
    "            'temperature': 0.1,\n",
    "            'top_p': 0.1\n",
    "        })\n",
    "end_eval = time.perf_counter()\n",
    "print(end_eval - start_eval)"
   ]
  },
  {
   "cell_type": "code",
   "execution_count": 251,
   "id": "e8649af7-3602-46b0-9280-eb2df4a5ae91",
   "metadata": {},
   "outputs": [
    {
     "name": "stdout",
     "output_type": "stream",
     "text": [
      " {\n",
      "      \"Player 1\": {\n",
      "         \"Score\": 95,\n",
      "         \"Option Selected\": \"b\",\n",
      "         \"Suggestions\": \"The explanation could be more concise and clear by using the relative speed formula directly instead of calculating individual speeds first.\"\n",
      "      },\n",
      "      \"Player 2\": {\n",
      "         \"Score\": 98,\n",
      "         \"Option Selected\": \"b\",\n",
      "         \"Suggestions\": None\n",
      "      }\n",
      "   }\n"
     ]
    }
   ],
   "source": [
    "print(response_eval.message.content)"
   ]
  },
  {
   "cell_type": "code",
   "execution_count": 305,
   "id": "d8d18a91-6523-4a4a-b7d0-81d92d7b3da6",
   "metadata": {},
   "outputs": [
    {
     "data": {
      "text/plain": [
       "['Player 1', 'Player 2']"
      ]
     },
     "execution_count": 305,
     "metadata": {},
     "output_type": "execute_result"
    }
   ],
   "source": [
    "list(eval(response_eval.message.content).keys())"
   ]
  },
  {
   "cell_type": "code",
   "execution_count": 19,
   "id": "75303a22-67c8-4fd0-803d-742f6100c6b3",
   "metadata": {},
   "outputs": [],
   "source": [
    "qwen_contextlen = 32768\n",
    "phi_contextlen = 128000"
   ]
  },
  {
   "cell_type": "code",
   "execution_count": 267,
   "id": "9259668a-ed4e-464c-a4cb-f8e399d93102",
   "metadata": {},
   "outputs": [
    {
     "data": {
      "text/plain": [
       "0.6931471805599453"
      ]
     },
     "execution_count": 267,
     "metadata": {},
     "output_type": "execute_result"
    }
   ],
   "source": [
    "np.log(2)"
   ]
  },
  {
   "cell_type": "code",
   "execution_count": null,
   "id": "eea27324-3469-4f6d-8e3a-7902421ba51d",
   "metadata": {},
   "outputs": [],
   "source": [
    "# Check for 2 random questions\n",
    "    # Create full question prompts for each mode, prev details such as output format adn generate outputs\n",
    "    # Calculate: # tokens, context, generation times, token_speed\n",
    "    # Give to evaluator: get explain scores, correctness\n",
    "    # Store all this information in a df, along with their outputs, suggestions, etc.\n",
    "    # Return df\n"
   ]
  },
  {
   "cell_type": "code",
   "execution_count": 21,
   "id": "a6414d33-9c9f-40b1-b966-de8c74a41e0f",
   "metadata": {},
   "outputs": [],
   "source": [
    "def get_score(number_of_tokens, context_length_score, explain_score, generation_time, correctness, token_speed):\n",
    "    score = (0.05 * (1 / np.log(number_of_tokens + 2))) + (0.1 * context_length_score) + (0.15 * (explain_score / 100)) + (0.15 * (1 / np.log(generation_time + 2))) + (0.4 * correctness) + (0.15 * np.log(token_speed + 1))\n",
    "    return score"
   ]
  },
  {
   "cell_type": "code",
   "execution_count": 103,
   "id": "a36138ae-b5d2-4ff3-a3d1-c2f987c3f64f",
   "metadata": {},
   "outputs": [],
   "source": [
    "def game_func(n_rounds=2):\n",
    "\n",
    "    sample_df = df.sample(n_questions)\n",
    "    prev_correct = {'Player 1': ['Start'], 'Player 2': ['Start']}\n",
    "    prev_score = {'Player 1': [0], 'Player 2': [0]}\n",
    "    eval_suggestion = {'Player 1': [None], 'Player 2': [None]}\n",
    "    prev_token = {'Player 1': ['Start'], 'Player 2': ['Start']}\n",
    "    explanation_score = {'Player 1': ['Start'], 'Player 2': ['Start']}\n",
    "    prev_winner = {'Player 1': ['Start'], 'Player 2': ['Start']}\n",
    "    prev_speed = {'Player 1': ['Start'], 'Player 2': ['Start']}\n",
    "    prev_time = {'Player 1': ['Start'], 'Player 2': ['Start']}\n",
    "\n",
    "    pl1_input_prompts, pl2_input_prompts, pl1_outputs, pl2_outputs = [], [], [], []\n",
    "    pl1_contexts, pl1_input_tokens, pl2_contexts, pl2_input_tokens = [], [], [], []\n",
    "    \n",
    "    indices = list(sample_df.index)\n",
    "    # print(indices)\n",
    "    qwen_contextlen = 32768\n",
    "    phi_contextlen = 128000\n",
    "    \n",
    "    for index in indices:\n",
    "\n",
    "        curr = sample_df.loc[index]\n",
    "        prob = curr['Problem']\n",
    "        sol = curr['Rationale']\n",
    "        options = curr['options']\n",
    "        correct = curr['correct']\n",
    "        formula = curr['annotated_formula']\n",
    "        cat = curr['category']\n",
    "\n",
    "\n",
    "        question_qwen = f\"\"\"<|im_start|>user\n",
    "Answer the following question from the options provided.\n",
    "\n",
    "Keep these details in mind before you generate the request:\n",
    "1) Your answer in the previous round: {prev_correct['Player 1'][-1]}\n",
    "2) Your score in the previous round: {prev_score['Player 1'][-1]}\n",
    "3) Time taken to generate answer in the previous round: {prev_time['Player 1'][-1]}\n",
    "4) Winner of previous round: {prev_winner['Player 1'][-1]}\n",
    "5) Your generation speed in the previous round: {prev_speed['Player 1'][-1]}\n",
    "6) Number of tokens generated in the previous round: {prev_token['Player 1'][-1]}\n",
    "7) Your explanation in the previous round was given a score: {explanation_score['Player 1'][-1]}\n",
    "8) Here is the suggestion given by the evaluator to use to generate current answer: {eval_suggestion['Player 1'][-1]}\n",
    "\n",
    "Q: {prob}\n",
    "Options: {options}\n",
    "\n",
    "A:\n",
    "<|im_end|>\n",
    "<|im_start|>assistant\n",
    "\"\"\"\n",
    "        \n",
    "        question_phi = f\"\"\"<|user|>\n",
    "Answer the following question from the options provided.\n",
    "\n",
    "Keep these details in mind before you generate the request:\n",
    "1) Your answer in the previous round: {prev_correct['Player 2'][-1]}\n",
    "2) Your score in the previous round: {prev_score['Player 2'][-1]}\n",
    "3) Time taken to generate answer in the previous round: {prev_time['Player 2'][-1]}\n",
    "4) Winner of previous round: {prev_winner['Player 2'][-1]}\n",
    "5) Your generation speed in the previous round: {prev_speed['Player 2'][-1]}\n",
    "6) Number of tokens generated in the previous round: {prev_token['Player 2'][-1]}\n",
    "7) Your explanation in the previous round was given a score: {explanation_score['Player 2'][-1]}\n",
    "8) Suggestion given by the evaluator to use to generate current answer: {eval_suggestion['Player 2'][-1]}\n",
    "\n",
    "Q: {prob}\n",
    "Options: {options}\n",
    "\n",
    "A:\n",
    "<|end|>\n",
    "<|assistant|>\n",
    "\"\"\"\n",
    "        # Player 1\n",
    "        pl1_start = time.perf_counter()\n",
    "        response_qwen= ollama.chat(model='qwen3:4b', messages=[\n",
    "            {'role': 'system', 'content': template_qwen},\n",
    "            {'role': 'user', 'content': question_qwen}\n",
    "        ],\n",
    "        options={\n",
    "            'temperature': 0.1,\n",
    "            'top_p': 0.1\n",
    "        })\n",
    "        pl1_end = time.perf_counter()\n",
    "        \n",
    "        pl1_time = pl1_end - pl1_start\n",
    "        qwen_output = response_qwen.message.content.split('</think>')[1].strip()\n",
    "\n",
    "        system_tokens_qwen = len(tokenizer_phi(template_qwen)['input_ids'])\n",
    "        input_tokens_qwen = len(tokenizer_phi(question_qwen)['input_ids'])\n",
    "        output_tokens_qwen = len(tokenizer_phi(qwen_output)['input_ids'])\n",
    "        \n",
    "        # Player 2\n",
    "        pl2_start = time.perf_counter()\n",
    "        response_phi= ollama.chat(model='phi4-mini:3.8b', messages=[\n",
    "            {'role': 'system', 'content': template_phi},\n",
    "            {'role': 'user', 'content': question_phi}\n",
    "        ],\n",
    "        options={\n",
    "            'temperature': 0.1,\n",
    "            'top_p': 0.1\n",
    "        })\n",
    "        \n",
    "        pl2_end = time.perf_counter()\n",
    "        pl2_time = pl2_end = pl2_start\n",
    "        phi_output = response_phi.message.content\n",
    "\n",
    "        system_tokens_phi = len(tokenizer_phi(template_phi)['input_ids'])\n",
    "        input_tokens_phi = len(tokenizer_phi(question_phi)['input_ids'])\n",
    "        output_tokens_phi = len(tokenizer_phi(phi_output)['input_ids'])\n",
    "        \n",
    "        \n",
    "        # Evaluator\n",
    "        eval_prompt = f\"\"\"[INST]\n",
    "Analyse the answers and explanations from each player and assign a score based on the question. Also, provide suggestions and follow instructions as given by the system.\n",
    "\n",
    "Q: {prob}\n",
    "A: {correct}\n",
    "\n",
    "Options: {options}\n",
    "Explanation: {sol}\n",
    "Formula: {formula}\n",
    "Question Category: {cat}\n",
    "\n",
    "Player 1 Explanation/Answer: {qwen_output}\n",
    "Player 2 Explanation/Answer: {phi_output}\n",
    "[/INST]\n",
    "\"\"\"\n",
    "        response_eval = ollama.chat(model='mistral', messages=[\n",
    "            {'role': 'system', 'content': sol_template},\n",
    "            {'role': 'user', 'content': eval_prompt}\n",
    "        ],\n",
    "        options={\n",
    "            'temperature': 0.1,\n",
    "            'top_p': 0.1\n",
    "        })\n",
    "\n",
    "        print(response_eval.message.content)\n",
    "        try:\n",
    "            eval_json = eval(response_eval.message.content)\n",
    "        except:\n",
    "            eval_again = ollama.chat(model='mistral', messages=[\n",
    "            {'role': 'user', 'content': \"\"\"[INST]Convert the given text to the FORMAT MENTIONED ONLY AND NOTHING ELSE.\n",
    "    Format: {\n",
    "        'Player 1': {'Score' :(integer), 'Option Selected': answer's option (string), 'Suggestions': text (string)}, \n",
    "        'Player 2': {'Score' :(integer), 'Option Selected': answer's option (string), 'Suggestions': text (string)}\n",
    "            }\n",
    "    Example: \n",
    "        {\n",
    "        'Player 1': {'Score' : 53, 'Option Selected': 'a', 'Suggestions': \"Let's think step-by-step in this round and try to improve your generation speed\"}, \n",
    "        'Player 2': {'Score' : 89, 'Option Selected': 'e', 'Suggestions': None}\n",
    "        }\n",
    "        [/INST]\n",
    "\"\"\" +  f'\\n{response_eval.message.content}'\n",
    "        }],\n",
    "        options={\n",
    "            'temperature': 0.1,\n",
    "            'top_p': 0.1\n",
    "        })\n",
    "            print(eval_again.message.content)\n",
    "            eval_json = eval(eval_again.message.content)\n",
    "\n",
    "        curr_explanation_score_1 = eval_json['Player 1']['Score']\n",
    "        curr_correct_1 = 'Correct' if eval_json['Player 1']['Option Selected'] == correct else 'Wrong'\n",
    "        curr_suggestions_1 = eval_json['Player 1']['Suggestions']\n",
    "\n",
    "        curr_explanation_score_2 = eval_json['Player 2']['Score']\n",
    "        curr_correct_2 = 'Correct' if eval_json['Player 2']['Option Selected'] == correct else 'Wrong'\n",
    "        curr_suggestions_2 = eval_json['Player 2']['Suggestions']\n",
    "\n",
    "        # Time, Context, number of tokens, explanation score, speed, correct \n",
    "        # Generation Speed: Tokens/sec\n",
    "        pl1_speed = round(output_tokens_qwen / pl1_time, 2)\n",
    "        pl2_speed = round(output_tokens_phi / pl2_time, 2)\n",
    "\n",
    "        # Context Length Handling\n",
    "        pl1_context = (system_tokens_qwen + input_tokens_qwen + output_tokens_qwen) / qwen_contextlen\n",
    "        pl2_context = (system_tokens_phi + input_tokens_phi + output_tokens_phi) / phi_contextlen\n",
    "\n",
    "        # Final Score\n",
    "        pl1_score = get_score(output_tokens_qwen, pl1_context, curr_explanation_score_1, pl1_time, 1 if curr_correct_1 == 'Correct' else 0, pl1_speed)\n",
    "        pl2_score = get_score(output_tokens_phi, pl2_context, curr_explanation_score_2, pl2_time, 1 if curr_correct_2 == 'Correct' else 0, pl2_speed)\n",
    "\n",
    "        # Updating infos\n",
    "        prev_score['Player 1'].append(pl1_score)\n",
    "        prev_score['Player 2'].append(pl2_score)\n",
    "\n",
    "        prev_correct['Player 1'].append(curr_correct_1)\n",
    "        prev_correct['Player 2'].append(curr_correct_2)\n",
    "\n",
    "        eval_suggestion['Player 1'].append(curr_suggestions_1)\n",
    "        eval_suggestion['Player 2'].append(curr_suggestions_2)\n",
    "\n",
    "        prev_token['Player 1'].append(output_tokens_qwen)\n",
    "        prev_token['Player 2'].append(output_tokens_phi)\n",
    "\n",
    "        prev_winner['Player 1'].append(pl1_score > pl2_score)\n",
    "        prev_winner['Player 2'].append(pl1_score < pl2_score)\n",
    "\n",
    "        prev_speed['Player 1'].append(pl1_speed)\n",
    "        prev_speed['Player 2'].append(pl2_speed)\n",
    "\n",
    "        prev_time['Player 1'].append(pl1_time)\n",
    "        prev_time['Player 2'].append(pl2_time)\n",
    "\n",
    "        explanation_score['Player 1'].append(curr_explanation_score_1)\n",
    "        explanation_score['Player 2'].append(curr_explanation_score_2)\n",
    "\n",
    "        pl1_contexts.append(pl1_context)\n",
    "        pl2_contexts.append(pl2_context)\n",
    "        \n",
    "        pl1_input_tokens.append(input_tokens_qwen)\n",
    "        pl2_input_tokens.append(input_tokens_phi)\n",
    "\n",
    "        pl1_input_prompts.append(question_qwen)\n",
    "        pl2_input_prompts.append(question_phi)\n",
    "        \n",
    "        pl1_outputs.append(qwen_output)\n",
    "        pl2_outputs.append(phi_output)\n",
    "        \n",
    "        \n",
    "    return prev_correct, prev_score, eval_suggestion, prev_token, explanation_score, prev_winner, prev_speed, prev_time, pl1_contexts, pl1_input_tokens, pl2_contexts, pl2_input_tokens, pl1_input_prompts, pl2_input_prompts, pl1_outputs, pl2_outputs, indices\n",
    "        "
   ]
  },
  {
   "cell_type": "code",
   "execution_count": 105,
   "id": "2065b295-852f-4035-8a3f-a682da8ff50c",
   "metadata": {},
   "outputs": [
    {
     "name": "stdout",
     "output_type": "stream",
     "text": [
      " {\n",
      "        'Player 1': {'Score' : 98, 'Option Selected': 'c', 'Suggestions': \"Great job! You found the correct answer and provided a clear explanation using congruences. However, you could have used a more concise notation for your solution.\"},\n",
      "        'Player 2': {'Score' : 95, 'Option Selected': 'd', 'Suggestions': \"Excellent job! You found the correct answer and provided an insightful explanation using the least common multiple. However, you could have simplified your approach by directly finding the difference between multiples of 30 and 7.\"}\n",
      "    }\n",
      " {\n",
      "        'Player 1': {'Score' : 95, 'Option Selected': 'c', 'Suggestions': \"Let's use a more straightforward approach to solve this problem by using the given information directly. This will make your explanation clearer and easier to understand.\"},\n",
      "        'Player 2': {'Score' : 80, 'Option Selected': 'e', 'Suggestions': \"Consider simplifying your approach by breaking down the problem into smaller steps and avoiding unnecessary calculations. This will help in reducing errors and improving the explanation score.\"}\n",
      "    }\n"
     ]
    }
   ],
   "source": [
    "prev_correct, prev_score, eval_suggestion, prev_token, explanation_score, prev_winner, prev_speed, prev_time, pl1_contexts, pl1_input_tokens, pl2_contexts, pl2_input_tokens, pl1_input_prompts, pl2_input_prompts, pl1_outputs, pl2_outputs, indices = game_func(n_rounds=2)"
   ]
  },
  {
   "cell_type": "code",
   "execution_count": 109,
   "id": "bdd032e0-9331-478b-aeeb-137da0ded8ac",
   "metadata": {},
   "outputs": [],
   "source": [
    "pl1_contexts = pl1_system_tokens\n",
    "pl2_contexts = pl2_system_tokens"
   ]
  },
  {
   "cell_type": "code",
   "execution_count": 111,
   "id": "69ca7cf9-7a64-4083-b033-63080ee9e524",
   "metadata": {},
   "outputs": [],
   "source": [
    "game_stats = pd.DataFrame({'Round': [i+1 for i in range(len(indices))],\n",
    "                           'Problem': [df.loc[i]['Problem'] for i in indices],\n",
    "                          'Correct': [df.loc[i]['correct'] for i in indices],\n",
    "                          'Explanation': [df.loc[i]['Rationale'] for i in indices],\n",
    "                          'Category': [df.loc[i]['category'] for i in indices],\n",
    "                          'Formula': [df.loc[i]['annotated_formula'] for i in indices],\n",
    "                           'Winner Player 1': prev_winner['Player 1'][1:],\n",
    "                           'Winner Player 2': prev_winner['Player 2'][1:],\n",
    "                           'Player 1 Scored': [round(i * 100, 2) for i in prev_score['Player 1'][1:]],\n",
    "                           'Player 2 Scored': [round(i * 100, 2) for i in prev_score['Player 2'][1:]],\n",
    "                           'Player 1 Time taken': prev_time['Player 1'][1:],\n",
    "                           'Player 2 Time taken': prev_time['Player 2'][1:],\n",
    "                           'Player 1 Gen Speed': prev_speed['Player 1'][1:],\n",
    "                           'Player 2 Gen Speed': prev_speed['Player 2'][1:],\n",
    "                           'Player 1 # Output Tokens': prev_token['Player 1'][1:],\n",
    "                           'Player 2 # Output Tokens': prev_token['Player 2'][1:],\n",
    "                           'Player 1 Context Used': [round(i * 100, 2) for i in pl1_contexts],\n",
    "                           'Player 2 Context Used': [round(i * 100, 2) for i in pl2_contexts],\n",
    "                           'Player 1 # Input Tokens': pl1_input_tokens,\n",
    "                           'Player 2 # Input Tokens': pl2_input_tokens,\n",
    "                           'Player 1 Evaluator Suggestion': eval_suggestion['Player 1'][1:],\n",
    "                           'Player 2 Evaluator Suggestion': eval_suggestion['Player 2'][1:],\n",
    "                           'Player 1 Explanation Score': explanation_score['Player 1'][1:],\n",
    "                           'Player 2 Explanation Score': explanation_score['Player 2'][1:],\n",
    "                           'Player 1 Input Prompts': pl1_input_prompts,\n",
    "                           'Player 2 Input Prompts': pl2_input_prompts,\n",
    "                           'Player 1 Output Prompts': pl1_outputs,\n",
    "                           'Player 2 Output Prompts': pl2_outputs\n",
    "                          })\n"
   ]
  },
  {
   "cell_type": "code",
   "execution_count": 69,
   "id": "8ab96cfb-bf8c-4488-b32e-140f54cb7b24",
   "metadata": {},
   "outputs": [
    {
     "data": {
      "text/plain": [
       "{'Player 1': ['Start', 'Correct'], 'Player 2': ['Start', 'Wrong']}"
      ]
     },
     "execution_count": 69,
     "metadata": {},
     "output_type": "execute_result"
    }
   ],
   "source": [
    "prev_correct"
   ]
  },
  {
   "cell_type": "code",
   "execution_count": 71,
   "id": "710ebc0c-835e-4ef2-9158-49fb3134aa70",
   "metadata": {},
   "outputs": [
    {
     "data": {
      "text/plain": [
       "{'Player 1': [0, 0.7571813576455141], 'Player 2': [0, 0.13992372654753452]}"
      ]
     },
     "execution_count": 71,
     "metadata": {},
     "output_type": "execute_result"
    }
   ],
   "source": [
    "prev_score"
   ]
  },
  {
   "cell_type": "code",
   "execution_count": 73,
   "id": "3ffc6b8a-3331-47e1-8d95-3e659c82d5b3",
   "metadata": {},
   "outputs": [
    {
     "data": {
      "text/plain": [
       "{'Player 1': ['Start', True], 'Player 2': ['Start', True]}"
      ]
     },
     "execution_count": 73,
     "metadata": {},
     "output_type": "execute_result"
    }
   ],
   "source": [
    "prev_winner"
   ]
  },
  {
   "cell_type": "code",
   "execution_count": 113,
   "id": "4d2e9f02-20aa-4057-b967-16e6cb831204",
   "metadata": {},
   "outputs": [
    {
     "data": {
      "text/html": [
       "<div>\n",
       "<style scoped>\n",
       "    .dataframe tbody tr th:only-of-type {\n",
       "        vertical-align: middle;\n",
       "    }\n",
       "\n",
       "    .dataframe tbody tr th {\n",
       "        vertical-align: top;\n",
       "    }\n",
       "\n",
       "    .dataframe thead th {\n",
       "        text-align: right;\n",
       "    }\n",
       "</style>\n",
       "<table border=\"1\" class=\"dataframe\">\n",
       "  <thead>\n",
       "    <tr style=\"text-align: right;\">\n",
       "      <th></th>\n",
       "      <th>Round</th>\n",
       "      <th>Problem</th>\n",
       "      <th>Correct</th>\n",
       "      <th>Explanation</th>\n",
       "      <th>Category</th>\n",
       "      <th>Formula</th>\n",
       "      <th>Winner Player 1</th>\n",
       "      <th>Winner Player 2</th>\n",
       "      <th>Player 1 Scored</th>\n",
       "      <th>Player 2 Scored</th>\n",
       "      <th>...</th>\n",
       "      <th>Player 1 # Input Tokens</th>\n",
       "      <th>Player 2 # Input Tokens</th>\n",
       "      <th>Player 1 Evaluator Suggestion</th>\n",
       "      <th>Player 2 Evaluator Suggestion</th>\n",
       "      <th>Player 1 Explanation Score</th>\n",
       "      <th>Player 2 Explanation Score</th>\n",
       "      <th>Player 1 Input Prompts</th>\n",
       "      <th>Player 2 Input Prompts</th>\n",
       "      <th>Player 1 Output Prompts</th>\n",
       "      <th>Player 2 Output Prompts</th>\n",
       "    </tr>\n",
       "  </thead>\n",
       "  <tbody>\n",
       "    <tr>\n",
       "      <th>0</th>\n",
       "      <td>1</td>\n",
       "      <td>when positive integer n is divided by 5 , the ...</td>\n",
       "      <td>c</td>\n",
       "      <td>\"when positive integer n is divided by 5 , the...</td>\n",
       "      <td>general</td>\n",
       "      <td>subtract(30, reminder(5, 7))</td>\n",
       "      <td>True</td>\n",
       "      <td>False</td>\n",
       "      <td>67.80</td>\n",
       "      <td>16.33</td>\n",
       "      <td>...</td>\n",
       "      <td>230</td>\n",
       "      <td>209</td>\n",
       "      <td>Great job! You found the correct answer and pr...</td>\n",
       "      <td>Excellent job! You found the correct answer an...</td>\n",
       "      <td>98</td>\n",
       "      <td>95</td>\n",
       "      <td>&lt;|im_start|&gt;user\\nAnswer the following questio...</td>\n",
       "      <td>&lt;|user|&gt;\\nAnswer the following question from t...</td>\n",
       "      <td>{Explanation: I found that n ≡ 1 mod 5 and n ≡...</td>\n",
       "      <td>{\\nExplanation: To find an integer 'p' which m...</td>\n",
       "    </tr>\n",
       "    <tr>\n",
       "      <th>1</th>\n",
       "      <td>2</td>\n",
       "      <td>in a school with 5 classes , each class has 2 ...</td>\n",
       "      <td>c</td>\n",
       "      <td>\"let x be the number of students in the larges...</td>\n",
       "      <td>general</td>\n",
       "      <td>add(divide(subtract(115, add(add(add(2, add(2,...</td>\n",
       "      <td>True</td>\n",
       "      <td>False</td>\n",
       "      <td>69.06</td>\n",
       "      <td>13.98</td>\n",
       "      <td>...</td>\n",
       "      <td>268</td>\n",
       "      <td>256</td>\n",
       "      <td>Let's use a more straightforward approach to s...</td>\n",
       "      <td>Consider simplifying your approach by breaking...</td>\n",
       "      <td>95</td>\n",
       "      <td>80</td>\n",
       "      <td>&lt;|im_start|&gt;user\\nAnswer the following questio...</td>\n",
       "      <td>&lt;|user|&gt;\\nAnswer the following question from t...</td>\n",
       "      <td>{Explanation: The largest class has x students...</td>\n",
       "      <td>{\\nExplanation: To solve this problem, we need...</td>\n",
       "    </tr>\n",
       "  </tbody>\n",
       "</table>\n",
       "<p>2 rows × 28 columns</p>\n",
       "</div>"
      ],
      "text/plain": [
       "   Round                                            Problem Correct  \\\n",
       "0      1  when positive integer n is divided by 5 , the ...       c   \n",
       "1      2  in a school with 5 classes , each class has 2 ...       c   \n",
       "\n",
       "                                         Explanation Category  \\\n",
       "0  \"when positive integer n is divided by 5 , the...  general   \n",
       "1  \"let x be the number of students in the larges...  general   \n",
       "\n",
       "                                             Formula  Winner Player 1  \\\n",
       "0                       subtract(30, reminder(5, 7))             True   \n",
       "1  add(divide(subtract(115, add(add(add(2, add(2,...             True   \n",
       "\n",
       "   Winner Player 2  Player 1 Scored  Player 2 Scored  ...  \\\n",
       "0            False            67.80            16.33  ...   \n",
       "1            False            69.06            13.98  ...   \n",
       "\n",
       "   Player 1 # Input Tokens  Player 2 # Input Tokens  \\\n",
       "0                      230                      209   \n",
       "1                      268                      256   \n",
       "\n",
       "                       Player 1 Evaluator Suggestion  \\\n",
       "0  Great job! You found the correct answer and pr...   \n",
       "1  Let's use a more straightforward approach to s...   \n",
       "\n",
       "                       Player 2 Evaluator Suggestion  \\\n",
       "0  Excellent job! You found the correct answer an...   \n",
       "1  Consider simplifying your approach by breaking...   \n",
       "\n",
       "   Player 1 Explanation Score  Player 2 Explanation Score  \\\n",
       "0                          98                          95   \n",
       "1                          95                          80   \n",
       "\n",
       "                              Player 1 Input Prompts  \\\n",
       "0  <|im_start|>user\\nAnswer the following questio...   \n",
       "1  <|im_start|>user\\nAnswer the following questio...   \n",
       "\n",
       "                              Player 2 Input Prompts  \\\n",
       "0  <|user|>\\nAnswer the following question from t...   \n",
       "1  <|user|>\\nAnswer the following question from t...   \n",
       "\n",
       "                             Player 1 Output Prompts  \\\n",
       "0  {Explanation: I found that n ≡ 1 mod 5 and n ≡...   \n",
       "1  {Explanation: The largest class has x students...   \n",
       "\n",
       "                             Player 2 Output Prompts  \n",
       "0  {\\nExplanation: To find an integer 'p' which m...  \n",
       "1  {\\nExplanation: To solve this problem, we need...  \n",
       "\n",
       "[2 rows x 28 columns]"
      ]
     },
     "execution_count": 113,
     "metadata": {},
     "output_type": "execute_result"
    }
   ],
   "source": [
    "game_stats"
   ]
  },
  {
   "cell_type": "code",
   "execution_count": 115,
   "id": "1ed779b4-e397-4610-89a2-747096c253c3",
   "metadata": {},
   "outputs": [
    {
     "data": {
      "text/plain": [
       "Round                                                                            1\n",
       "Problem                          when positive integer n is divided by 5 , the ...\n",
       "Correct                                                                          c\n",
       "Explanation                      \"when positive integer n is divided by 5 , the...\n",
       "Category                                                                   general\n",
       "Formula                                               subtract(30, reminder(5, 7))\n",
       "Winner Player 1                                                               True\n",
       "Winner Player 2                                                              False\n",
       "Player 1 Scored                                                               67.8\n",
       "Player 2 Scored                                                              16.33\n",
       "Player 1 Time taken                                                      83.804213\n",
       "Player 2 Time taken                                                 1078891.030163\n",
       "Player 1 Gen Speed                                                            0.74\n",
       "Player 2 Gen Speed                                                             0.0\n",
       "Player 1 # Output Tokens                                                        62\n",
       "Player 2 # Output Tokens                                                       213\n",
       "Player 1 Context Used                                                         2.22\n",
       "Player 2 Context Used                                                         0.66\n",
       "Player 1 # Input Tokens                                                        230\n",
       "Player 2 # Input Tokens                                                        209\n",
       "Player 1 Evaluator Suggestion    Great job! You found the correct answer and pr...\n",
       "Player 2 Evaluator Suggestion    Excellent job! You found the correct answer an...\n",
       "Player 1 Explanation Score                                                      98\n",
       "Player 2 Explanation Score                                                      95\n",
       "Player 1 Input Prompts           <|im_start|>user\\nAnswer the following questio...\n",
       "Player 2 Input Prompts           <|user|>\\nAnswer the following question from t...\n",
       "Player 1 Output Prompts          {Explanation: I found that n ≡ 1 mod 5 and n ≡...\n",
       "Player 2 Output Prompts          {\\nExplanation: To find an integer 'p' which m...\n",
       "Name: 0, dtype: object"
      ]
     },
     "execution_count": 115,
     "metadata": {},
     "output_type": "execute_result"
    }
   ],
   "source": [
    "game_stats.iloc[0]"
   ]
  },
  {
   "cell_type": "code",
   "execution_count": null,
   "id": "be942003-5a80-44f1-8b70-81f25d26ce32",
   "metadata": {},
   "outputs": [],
   "source": []
  }
 ],
 "metadata": {
  "kernelspec": {
   "display_name": "Python 3 (ipykernel)",
   "language": "python",
   "name": "python3"
  },
  "language_info": {
   "codemirror_mode": {
    "name": "ipython",
    "version": 3
   },
   "file_extension": ".py",
   "mimetype": "text/x-python",
   "name": "python",
   "nbconvert_exporter": "python",
   "pygments_lexer": "ipython3",
   "version": "3.12.7"
  }
 },
 "nbformat": 4,
 "nbformat_minor": 5
}
